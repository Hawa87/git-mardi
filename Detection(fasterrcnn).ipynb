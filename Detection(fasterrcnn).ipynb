{
 "cells": [
  {
   "cell_type": "markdown",
   "id": "8945766f",
   "metadata": {
    "id": "7cc9a687"
   },
   "source": [
    "![alt](https://research.utm.my/wp-content/uploads/sites/26/2022/06/logo-300x122.png)\n",
    "# Center for Artificial Intelligence and Robotics\n",
    "#### Universiti Teknologi Malaysia\n",
    "\n",
    "\n",
    "### Detection Inference - FasterRCNN\n",
    "\n",
    "*Author: Dr. Ibrahim, Azzam, Thaqif & Syahmi*\n",
    "\n",
    "**FasterRCNN for object detection.**\n",
    "\n",
    "_ | _"
   ]
  },
  {
   "cell_type": "code",
   "execution_count": null,
   "id": "f59af582",
   "metadata": {},
   "outputs": [],
   "source": [
    "%%bash\n",
    "pip install -U matplotlib"
   ]
  },
  {
   "cell_type": "code",
   "execution_count": null,
   "id": "999c9f1f",
   "metadata": {
    "id": "e24c6230"
   },
   "outputs": [],
   "source": [
    "import torch\n",
    "import torchvision.transforms as transforms\n",
    "from torchvision.models.detection import fasterrcnn_resnet50_fpn\n",
    "from PIL import Image\n",
    "import matplotlib.pyplot as plt\n",
    "import matplotlib.patches as patches\n",
    "import requests\n",
    "\n",
    "# URL to the COCO class names\n",
    "url = 'https://raw.githubusercontent.com/amikelive/coco-labels/master/coco-labels-paper.txt'\n",
    "\n",
    "# Download the class names\n",
    "response = requests.get(url)\n",
    "coco_classes = ['background'] + response.text.strip().split('\\n')\n",
    "\n",
    "# Load the Faster R-CNN model pre-trained on COCO dataset\n",
    "model = fasterrcnn_resnet50_fpn(pretrained=True)\n",
    "model.eval()\n",
    "\n",
    "# Load an image\n",
    "image_path = 'dog.jpg'\n",
    "image = Image.open(image_path).convert('RGB')\n",
    "# Preprocess the image\n",
    "transform = transforms.Compose([\n",
    "    transforms.ToTensor(),\n",
    "])\n",
    "input_tensor = transform(image).unsqueeze(0)\n",
    "\n",
    "# Perform object detection\n",
    "with torch.no_grad():\n",
    "    predictions = model(input_tensor)\n",
    "\n",
    "# Process the predictions\n",
    "pred_boxes = predictions[0]['boxes'].cpu().numpy()\n",
    "pred_scores = predictions[0]['scores'].cpu().numpy()\n",
    "pred_labels = predictions[0]['labels'].cpu().numpy()\n",
    "\n",
    "# Set a confidence threshold\n",
    "confidence_threshold = 0.5\n",
    "filtered_boxes = pred_boxes[pred_scores >= confidence_threshold]\n",
    "filtered_labels = pred_labels[pred_scores >= confidence_threshold]\n",
    "\n",
    "# Map the labels to class names\n",
    "pred_class_names = [coco_classes[label] for label in filtered_labels]\n",
    "\n",
    "# Visualize the results\n",
    "fig, ax = plt.subplots(1)\n",
    "ax.imshow(image)\n",
    "\n",
    "# Add bounding boxes to the image\n",
    "for box, label in zip(filtered_boxes, pred_class_names):\n",
    "    x1, y1, x2, y2 = box\n",
    "    rect = patches.Rectangle((x1, y1), x2 - x1, y2 - y1, linewidth=2, edgecolor='r', facecolor='none')\n",
    "    ax.add_patch(rect)\n",
    "    plt.text(x1, y1, f'{label}', bbox=dict(facecolor='white', alpha=0.5))\n",
    "\n",
    "plt.show()"
   ]
  }
 ],
 "metadata": {
  "colab": {
   "provenance": []
  },
  "kernelspec": {
   "display_name": "Python 3 (ipykernel)",
   "language": "python",
   "name": "python3"
  },
  "language_info": {
   "codemirror_mode": {
    "name": "ipython",
    "version": 3
   },
   "file_extension": ".py",
   "mimetype": "text/x-python",
   "name": "python",
   "nbconvert_exporter": "python",
   "pygments_lexer": "ipython3",
   "version": "3.8.13"
  }
 },
 "nbformat": 4,
 "nbformat_minor": 5
}
